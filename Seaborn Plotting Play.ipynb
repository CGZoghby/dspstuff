{
 "cells": [
  {
   "cell_type": "code",
   "execution_count": null,
   "id": "27e545fb",
   "metadata": {},
   "outputs": [],
   "source": [
    "import seaborn as sns\n",
    "import matplotlib.pyplot as plt"
   ]
  },
  {
   "cell_type": "code",
   "execution_count": null,
   "id": "d35e833a",
   "metadata": {},
   "outputs": [],
   "source": [
    "titanic = sns.load_dataset('titanic')"
   ]
  },
  {
   "cell_type": "code",
   "execution_count": null,
   "id": "0e30dd30",
   "metadata": {},
   "outputs": [],
   "source": [
    "titanic.head()"
   ]
  },
  {
   "cell_type": "code",
   "execution_count": null,
   "id": "3acf84f6",
   "metadata": {},
   "outputs": [],
   "source": [
    "plt.figure(figsize=(8,5))\n",
    "sns.boxplot(x='class',y='age',data=titanic, palette='rainbow')\n",
    "plt.title(\"Age by Passenger Class, Titanic\")"
   ]
  },
  {
   "cell_type": "code",
   "execution_count": null,
   "id": "77e3a613",
   "metadata": {},
   "outputs": [],
   "source": [
    "plt.figure(figsize=(10,6))\n",
    "sns.violinplot(x='class',y=\"age\",data=titanic, hue='sex', palette='rainbow')\n",
    "plt.title(\"Violin Plot of Age by Class, Separated by Sex\")"
   ]
  },
  {
   "cell_type": "code",
   "execution_count": null,
   "id": "2c63069c",
   "metadata": {},
   "outputs": [],
   "source": [
    "plt.figure(figsize=(10,6))\n",
    "sns.violinplot(x='class',y=\"age\",data=titanic, hue='sex', split='True', palette='rainbow')\n",
    "plt.title(\"Violin Plot of Age by Class, Separated by Sex\")"
   ]
  },
  {
   "cell_type": "code",
   "execution_count": null,
   "id": "c0389de3",
   "metadata": {},
   "outputs": [],
   "source": [
    "plt.figure(figsize=(8,5))\n",
    "sns.barplot(x='embark_town',y='fare',data=titanic, palette='rainbow')\n",
    "plt.title(\"Fare of Passenger by Embarked Town\")"
   ]
  },
  {
   "cell_type": "code",
   "execution_count": null,
   "id": "9ac3c417",
   "metadata": {},
   "outputs": [],
   "source": [
    "plt.figure(figsize=(8,5))\n",
    "sns.barplot(x='embark_town',y='fare',data=titanic, palette='rainbow', hue='class')\n",
    "plt.title(\"Fare of Passenger by Embarked Town, Divided by Class\")"
   ]
  },
  {
   "cell_type": "code",
   "execution_count": null,
   "id": "0a99e9d7",
   "metadata": {},
   "outputs": [],
   "source": [
    "plt.figure(figsize=(8,5))\n",
    "sns.pointplot(x='embark_town',y='fare',data=titanic)\n",
    "plt.title(\"Average Fare Price by Embarked Town\")"
   ]
  },
  {
   "cell_type": "code",
   "execution_count": null,
   "id": "a8e70104",
   "metadata": {},
   "outputs": [],
   "source": [
    "plt.figure(figsize=(8,5))\n",
    "sns.pointplot(x='embark_town',y='fare',data=titanic, hue='class')\n",
    "plt.title(\"Average Fare Price by Embarked Town, Separated by Sex\")"
   ]
  },
  {
   "cell_type": "code",
   "execution_count": null,
   "id": "f5b87b16",
   "metadata": {},
   "outputs": [],
   "source": [
    "plt.figure(figsize=(8,5))\n",
    "sns.countplot(x='embark_town',data=titanic, palette='rainbow',hue='sex')\n",
    "plt.title(\"Count of Passengers that Embarked in Each City, Separated by Sex\")"
   ]
  },
  {
   "cell_type": "code",
   "execution_count": null,
   "id": "69cf81a3",
   "metadata": {},
   "outputs": [],
   "source": [
    "plt.figure(figsize=(12,8))\n",
    "sns.stripplot(x='class', y='age', data=titanic, jitter=True, hue='alive', dodge=True, palette='viridis')\n",
    "# Strip plots get a special mention as conveying interesting details about categorical data when the number of \n",
    "# points are small enough that correlations are not hidden by aggregation."
   ]
  },
  {
   "cell_type": "code",
   "execution_count": null,
   "id": "4eeaef89",
   "metadata": {},
   "outputs": [],
   "source": [
    "plt.figure(figsize=(10,7))\n",
    "sns.swarmplot(x='class', y='age', data=titanic, hue='alive', dodge=True, palette='viridis')\n",
    "plt.title(\"Age by Passenger Class, Separated by Survival\")"
   ]
  },
  {
   "cell_type": "code",
   "execution_count": null,
   "id": "3e49a467",
   "metadata": {},
   "outputs": [],
   "source": [
    "# Super cool, you can overlay a swarm plot on top of another plot to enhance the understanding/visual impact of the other \n",
    "# categorical plot.\n",
    "plt.figure(figsize=(12,8))\n",
    "sns.violinplot(x='class',y=\"age\", data=titanic, hue='survived', split='True', palette='rainbow')\n",
    "sns.swarmplot(x='class',y=\"age\", data=titanic, hue='survived', dodge='True', color='grey', alpha=.8, s=4)\n",
    "plt.title(\"Age by Passenger Class, Separated by Survival\")"
   ]
  },
  {
   "cell_type": "code",
   "execution_count": null,
   "id": "f192dae4",
   "metadata": {},
   "outputs": [],
   "source": [
    "g = sns.catplot(x='class',y='survived', col = 'who', data=titanic,\n",
    "                kind='bar', aspect=.6, palette='Set2')\n",
    "(g.set_axis_labels(\"Class\", \"Survival Rate\")\n",
    "  .set_titles(\"{col_name}\")\n",
    "  .set(ylim=(0,1)))\n",
    "plt.tight_layout()"
   ]
  },
  {
   "cell_type": "code",
   "execution_count": null,
   "id": "bc1412dc",
   "metadata": {},
   "outputs": [],
   "source": []
  }
 ],
 "metadata": {
  "kernelspec": {
   "display_name": "Python 3",
   "language": "python",
   "name": "python3"
  },
  "language_info": {
   "codemirror_mode": {
    "name": "ipython",
    "version": 3
   },
   "file_extension": ".py",
   "mimetype": "text/x-python",
   "name": "python",
   "nbconvert_exporter": "python",
   "pygments_lexer": "ipython3",
   "version": "3.8.8"
  }
 },
 "nbformat": 4,
 "nbformat_minor": 5
}
