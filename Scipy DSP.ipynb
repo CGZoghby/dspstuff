{
 "cells": [
  {
   "cell_type": "code",
   "execution_count": 1,
   "id": "c24229cb",
   "metadata": {},
   "outputs": [],
   "source": [
    "import numpy as np\n",
    "import scipy.linalg as la\n",
    "import scipy.signal as signal\n",
    "from numpy.linalg import inv\n",
    "import matplotlib.pyplot as plt\n",
    "import matplotlib.pyplot as plt\n",
    "from numpy.fft import fft, ifft"
   ]
  },
  {
   "cell_type": "markdown",
   "id": "e0a28e9e",
   "metadata": {},
   "source": [
    "### Spectrogram"
   ]
  },
  {
   "cell_type": "code",
   "execution_count": null,
   "id": "425e9464",
   "metadata": {},
   "outputs": [],
   "source": [
    "sample_rate = 1e6\n",
    "\n",
    "# Generate tone plus noise\n",
    "t = np.arange(1024*1000)/sample_rate # time vector\n",
    "f = 50e3 # freq of tone\n",
    "x = np.sin(2*np.pi*f*t) + 0.2*np.random.randn(len(t))\n",
    "\n",
    "fft_size = 1024\n",
    "num_rows = int(np.floor(len(x)/fft_size))\n",
    "spectrogram = np.zeros((num_rows, fft_size))\n",
    "for i in range(num_rows):\n",
    "    spectrogram[i,:] = np.log10(np.abs(np.fft.fftshift(np.fft.fft(x[i*fft_size:(i+1)*fft_size])))**2)\n",
    "spectrogram = spectrogram[:,fft_size//2:] # get rid of negative freqs because we simulated a real signal\n",
    "\n",
    "\n",
    "plt.imshow(spectrogram, aspect='auto', extent = [0, sample_rate/2/1e6, 0, len(x)/sample_rate])\n",
    "plt.xlabel(\"Frequency [MHz]\")\n",
    "plt.ylabel(\"Time [s]\")\n",
    "plt.show()\n",
    "#plt.savefig('../_images/spectrogram.svg', bbox_inches='tight')"
   ]
  },
  {
   "cell_type": "markdown",
   "id": "35759e88",
   "metadata": {},
   "source": [
    "## Generate QPSK Symbols"
   ]
  },
  {
   "cell_type": "code",
   "execution_count": null,
   "id": "ab4fb3d0",
   "metadata": {},
   "outputs": [],
   "source": [
    "### No noise\n",
    "num_symbols = 1000\n",
    "\n",
    "x_int = np.random.randint(0, 4, num_symbols) # 0 to 3\n",
    "print(x_int)\n",
    "x_degrees = x_int*360/4.0 + 45 # 45, 135, 225, 315 degrees\n",
    "x_radians = x_degrees*np.pi/180.0 # sin() and cos() takes in radians\n",
    "x_symbols = np.cos(x_radians) + 1j*np.sin(x_radians) # this produces our QPSK complex symbols\n",
    "\n",
    "fig, (ax1) = plt.subplots(1, 1, figsize=(4, 4))\n",
    "fig.subplots_adjust(hspace=0.4)\n",
    "ax1.plot(np.real(x_symbols), np.imag(x_symbols), '.')\n",
    "ax1.set_ylabel(\"Q\")\n",
    "ax1.set_xlabel(\"I\")\n",
    "ax1.set_ylim(bottom=-1, top=1)\n",
    "ax1.set_xlim(left=-1, right=1)\n",
    "ax1.grid()\n",
    "plt.show()"
   ]
  },
  {
   "cell_type": "code",
   "execution_count": null,
   "id": "c86dc377-723d-48cf-8fac-e2ee4f387abf",
   "metadata": {},
   "outputs": [],
   "source": [
    "### Add AWGN\n",
    "n = (np.random.randn(num_symbols) + 1j*np.random.randn(num_symbols))/np.sqrt(2) # AWGN with unity power\n",
    "noise_power = 0.01\n",
    "r = x_symbols + n * np.sqrt(noise_power)\n",
    "\n",
    "fig, (ax1) = plt.subplots(1, 1, figsize=(4, 4))\n",
    "fig.subplots_adjust(hspace=0.4)\n",
    "ax1.plot(np.real(r), np.imag(r), '.')\n",
    "ax1.set_ylabel(\"Q\")\n",
    "ax1.set_xlabel(\"I\")\n",
    "ax1.set_ylim(bottom=-1, top=1)\n",
    "ax1.set_xlim(left=-1, right=1)\n",
    "ax1.grid()\n",
    "plt.show()"
   ]
  },
  {
   "cell_type": "code",
   "execution_count": null,
   "id": "cc2b9494-178a-48bc-b66b-3c09c4065bb4",
   "metadata": {},
   "outputs": [],
   "source": [
    "### Phase noise\n",
    "phase_noise = np.random.randn(len(x_symbols)) * 0.15 # adjust multiplier for \"strength\" of phase noise\n",
    "r = x_symbols * np.exp(1j*phase_noise)\n",
    "\n",
    "fig, (ax1) = plt.subplots(1, 1, figsize=(4, 4))\n",
    "fig.subplots_adjust(hspace=0.4)\n",
    "ax1.plot(np.real(r), np.imag(r), '.')\n",
    "ax1.set_ylabel(\"Q\")\n",
    "ax1.set_xlabel(\"I\")\n",
    "ax1.set_ylim(bottom=-1, top=1)\n",
    "ax1.set_xlim(left=-1, right=1)\n",
    "ax1.grid()\n",
    "plt.show()"
   ]
  },
  {
   "cell_type": "code",
   "execution_count": null,
   "id": "31668aa9-1b5f-43c2-a267-fa38c47c6eb5",
   "metadata": {},
   "outputs": [],
   "source": [
    "### Phase noise plus AWGN\n",
    "phase_noise = np.random.randn(len(x_symbols)) * 0.2 # adjust multiplier for \"strength\" of phase noise\n",
    "r = x_symbols * np.exp(1j*phase_noise) + n * np.sqrt(noise_power)\n",
    "\n",
    "fig, (ax1) = plt.subplots(1, 1, figsize=(4, 4))\n",
    "fig.subplots_adjust(hspace=0.4)\n",
    "ax1.plot(np.real(r), np.imag(r), '.')\n",
    "ax1.set_ylabel(\"Q\")\n",
    "ax1.set_xlabel(\"I\")\n",
    "ax1.set_ylim(bottom=-1.2, top=1.2)\n",
    "ax1.set_xlim(left=-1.2, right=1.2)\n",
    "ax1.grid()\n",
    "plt.show()"
   ]
  },
  {
   "cell_type": "code",
   "execution_count": null,
   "id": "83d6911f-db75-4d69-a7af-4833049a35dd",
   "metadata": {},
   "outputs": [],
   "source": [
    "import numpy as np\n",
    "import pylab as pl\n",
    "import scipy.signal.signaltools as sigtool\n",
    "import scipy.signal as signal\n",
    "from numpy.random import sample\n",
    "\n",
    "#the following variables setup the system\n",
    "Fc = 1000       #simulate a carrier frequency of 1kHz\n",
    "Fbit = 50       #simulated bitrate of data\n",
    "Fdev = 500      #frequency deviation, make higher than bitrate\n",
    "N = 8          #how many bits to send\n",
    "A = 1           #transmitted signal amplitude\n",
    "Fs = 1000      #sampling frequency for the simulator, must be higher than twice the carrier frequency\n",
    "A_n = 0.1       #noise peak amplitude\n",
    "N_prntbits = 8 #number of bits to print in plots\n",
    "\n",
    "def plot_data(y):\n",
    "    #view the data in time and frequency domain\n",
    "    #calculate the frequency domain for viewing purposes\n",
    "    N_FFT = float(len(y))\n",
    "    f = np.arange(0,Fs/2,Fs/N_FFT)\n",
    "    w = np.hanning(len(y))\n",
    "    y_f = np.fft.fft(np.multiply(y,w))\n",
    "    y_f = 10*np.log10(np.abs(y_f[0:N_FFT/2]/N_FFT))\n",
    "    pl.subplot(3,1,1)\n",
    "    pl.plot(t[0:Fs*N_prntbits/Fbit],m[0:Fs*N_prntbits/Fbit])\n",
    "    pl.xlabel('Time (s)')\n",
    "    pl.ylabel('Frequency (Hz)')\n",
    "    pl.title('Original VCO output versus time')\n",
    "    pl.grid(True)\n",
    "    pl.subplot(3,1,2)\n",
    "    pl.plot(t[0:Fs*N_prntbits/Fbit],y[0:Fs*N_prntbits/Fbit])\n",
    "    pl.xlabel('Time (s)')\n",
    "    pl.ylabel('Amplitude (V)')\n",
    "    pl.title('Amplitude of carrier versus time')\n",
    "    pl.grid(True)\n",
    "    pl.subplot(3,1,3)\n",
    "    pl.plot(f[0:(Fc+Fdev*2)*N_FFT/Fs],y_f[0:(Fc+Fdev*2)*N_FFT/Fs])\n",
    "    pl.xlabel('Frequency (Hz)')\n",
    "    pl.ylabel('Amplitude (dB)')\n",
    "    pl.title('Spectrum')\n",
    "    pl.grid(True)\n",
    "    pl.tight_layout()\n",
    "    pl.show()\n",
    "    \n",
    "data_in = \"01010101\""
   ]
  },
  {
   "cell_type": "code",
   "execution_count": null,
   "id": "1c89e3ab-2c5b-43d8-a838-dbbee171f22d",
   "metadata": {},
   "outputs": [],
   "source": [
    "len(np.arange(-Fs/Fbit,Fs/Fbit,1/Fs))"
   ]
  },
  {
   "cell_type": "code",
   "execution_count": null,
   "id": "fb93775a-b20b-47fb-a2ab-16cda0308e5e",
   "metadata": {},
   "outputs": [],
   "source": [
    "#extend the data_in to account for the bitrate and convert 0/1 to frequency\n",
    "m = []\n",
    "for bit in data_in:\n",
    "    if bit == \"0\":\n",
    "        m=np.hstack((m,np.ones(int(Fs/Fbit))*(Fc+Fdev)))\n",
    "    else:\n",
    "        m=np.hstack((m,np.ones(int(Fs/Fbit))*(Fc-Fdev)))\n",
    "#calculate the output of the VCO\n",
    "t = np.arange((-2*N/Fbit),(2*N/Fbit),1/Fs)\n",
    "print(len(m),len(t))\n",
    "y=A * np.cos(2*np.pi*m*t)\n",
    "plot_data(y)"
   ]
  },
  {
   "cell_type": "code",
   "execution_count": null,
   "id": "e6c772e0-fafa-4962-a5bf-562666b96610",
   "metadata": {},
   "outputs": [],
   "source": [
    "\"\"\"\n",
    "Noisy Channel\n",
    "\"\"\"\n",
    "#create some noise\n",
    "noise = (np.random.randn(len(y))+1)*A_n\n",
    "snr = 10*np.log10(np.mean(np.square(y)) / np.mean(np.square(noise)))\n",
    "print \"SNR = %fdB\" % snr\n",
    "y=np.add(y,noise)\n",
    "#view the data after adding noise\n",
    "plot_data(y)"
   ]
  }
 ],
 "metadata": {
  "kernelspec": {
   "display_name": "PySDR",
   "language": "python",
   "name": "pysdr"
  },
  "language_info": {
   "codemirror_mode": {
    "name": "ipython",
    "version": 3
   },
   "file_extension": ".py",
   "mimetype": "text/x-python",
   "name": "python",
   "nbconvert_exporter": "python",
   "pygments_lexer": "ipython3",
   "version": "3.9.5"
  }
 },
 "nbformat": 4,
 "nbformat_minor": 5
}
