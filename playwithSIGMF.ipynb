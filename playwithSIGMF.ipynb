{
 "cells": [
  {
   "cell_type": "code",
   "execution_count": 1,
   "id": "fdc239c5-72f8-420f-8b9f-884c41b94e72",
   "metadata": {},
   "outputs": [],
   "source": [
    "import datetime as dt\n",
    "import numpy as np\n",
    "import sigmf\n",
    "from sigmf import SigMFFile, sigmffile\n",
    "from sigmf.utils import get_data_type_str"
   ]
  },
  {
   "cell_type": "markdown",
   "id": "490df621-6fe8-4df4-97f3-6cc81b44d07d",
   "metadata": {},
   "source": [
    "# Rules on sigmf data formats\n",
    "numpy will save I and Q data as a+bi, but sigmf would prefer they were separate arrays. Fix this by vectorizing a complex array as x.real and x.imag\n",
    "\n",
    "Complex samples MUST be interleaved, with the in-phase component first (i.e., I[0] Q[0] I[1] Q[1] ... I[n] Q[n]). When core:num_channels in the Global object (described below) indicates that the Recording contains more than one channel, samples from those channels MUST be interleaved in the same manner, with the same index from each channel's sample serially in the Recording. For example, a Recording with two channels of ri16_le representing real-valued audio data from a stereo Recording and here labeled L for left and R for right, the data MUST appear as L[0] R[0] L[1] R[1] ... L[n] R[n]. The data type specified by core:data_type applies to all channels of data both real and imaginary parts.\n",
    "\n",
    "# Rules for all files:\n",
    "\n",
    "All filetypes MUST be stored in separate files on-disk.\n",
    "It is RECOMMENDED that filenames use hyphens to separate words rather than whitespace or underscores.\n",
    "Rules for SigMF Metadata files:\n",
    "\n",
    "A Metadata file MUST only describe one Dataset file.\n",
    "A Metadata file MUST be stored in UTF-8 encoding.\n",
    "A Metadata file MUST have a .sigmf-meta filename extension.\n",
    "A Metadata file MUST be in the same directory as the Dataset file it describes.\n",
    "It is RECOMMENDED that the base filenames (not including file extension) of a Recording's Metadata and Dataset files be identical.\n",
    "Rules for SigMF Dataset files:\n",
    "\n",
    "The Dataset file MUST have a .sigmf-data filename extension.\n",
    "Rules for SigMF Non-Conforming Dataset files:\n",
    "\n",
    "The NCD file MUST NOT have a .sigmf-data filename extension.\n",
    "Rules for SigMF Collection files:\n",
    "\n",
    "The Collection file MUST be stored in UTF-8 encoding.\n",
    "The Collection file MUST have a .sigmf-collection filename extension.\n",
    "The sigmf-collection file MUST be either in the same directory as the Recordings that it references, or in the top-level directory of an Archive (described in later section).\n",
    "Rules for SigMF Archive files:\n",
    "\n",
    "The Archive MUST use the tar archive format, as specified by POSIX.1-2001.\n",
    "The Archive file's filename extension MUST be .sigmf.\n",
    "The Archive MUST contain the following files: for each contained Recording with some name given here meta-syntactically as N, files named N (a directory), N/N.sigmf-meta, and N/N.sigmf-data.\n",
    "The Archive MAY contain a .sigmf-collection file in the top-level directory.\n",
    "It is RECOMMENDED that if Recordings in an archive represent continuous data that has been split into separate Recordings, that their filenames reflect the order of the series by appending a hyphenated zero-based index (e.g., N-0, N-1, N-2, etc.,)."
   ]
  },
  {
   "cell_type": "code",
   "execution_count": 5,
   "id": "08590de9-aa97-44d8-9dc1-ec325c624aad",
   "metadata": {},
   "outputs": [],
   "source": [
    "#get_data_type_str only support numpy native datatypes?\n",
    "\n",
    "# suppose we have an complex timeseries signal\n",
    "# data = np.zeros(1024, dtype=np.csingle)\n",
    "A = 127\n",
    "fs = 100e6\n",
    "fc = 915e6\n",
    "pw = 10e-6\n",
    "cr = 5e6/pw\n",
    "t = np.arange(0, pw, 1/fs)\n",
    "testSignal = (A*np.exp(1j*np.pi*cr*t*t)*np.exp(1j*2*np.pi*fc*t))\n",
    "data = np.dstack((testSignal.real,testSignal.imag)).reshape(testSignal.real.shape[0],-1).astype('float32')\n",
    "\n",
    "# write those samples to file in cf32_le\n",
    "data.tofile('./chirp-pulse.sigmf-data')\n",
    "\n",
    "# create the metadata\n",
    "meta = SigMFFile(\n",
    "    data_file='./chirp-pulse.sigmf-data', # extension is optional\n",
    "    global_info = {\n",
    "        SigMFFile.DATATYPE_KEY: get_data_type_str(data),  # in this case, 'cf32_le'\n",
    "        SigMFFile.SAMPLE_RATE_KEY: fs,\n",
    "        SigMFFile.AUTHOR_KEY: 'cgzoghby@gmail.com',\n",
    "        SigMFFile.DESCRIPTION_KEY: 'Example chirping signal file.',\n",
    "        SigMFFile.VERSION_KEY: sigmf.__version__,\n",
    "    }\n",
    ")\n",
    "\n",
    "# create a capture key at time index 0\n",
    "meta.add_capture(0, metadata={\n",
    "    SigMFFile.FREQUENCY_KEY: fc,\n",
    "    SigMFFile.DATETIME_KEY: dt.datetime.utcnow().isoformat()+'Z',\n",
    "})\n",
    "\n",
    "# add an annotation at sample 100 with length 200 & 10 KHz width\n",
    "meta.add_annotation(100, 200, metadata = {\n",
    "    SigMFFile.FLO_KEY: 914995000.0,\n",
    "    SigMFFile.FHI_KEY: 915005000.0,\n",
    "    SigMFFile.COMMENT_KEY: 'example annotation',\n",
    "})\n",
    "\n",
    "# check for mistakes & write to disk\n",
    "assert meta.validate()\n",
    "meta.tofile('./chirp-pulse.sigmf-meta') # extension is optional"
   ]
  },
  {
   "cell_type": "code",
   "execution_count": 6,
   "id": "0a891e88-fec5-4a60-b76e-9610b0648aa2",
   "metadata": {},
   "outputs": [],
   "source": [
    "# Load a dataset\n",
    "filename = './chirp-pulse.sigmf-data' # extension is optional\n",
    "signal = sigmffile.fromfile(filename)\n",
    "\n",
    "# Get some metadata and all annotations\n",
    "sample_rate = signal.get_global_field(SigMFFile.SAMPLE_RATE_KEY)\n",
    "sample_count = signal.sample_count\n",
    "signal_duration = sample_count / sample_rate # Always in seconds?\n",
    "annotations = signal.get_annotations()\n",
    "data = signal.read_samples()\n",
    "\n",
    "# Iterate over annotations\n",
    "for adx, annotation in enumerate(annotations):\n",
    "    annotation_start_idx = annotation[SigMFFile.START_INDEX_KEY]\n",
    "    annotation_length = annotation[SigMFFile.LENGTH_INDEX_KEY]\n",
    "    annotation_comment = annotation.get(SigMFFile.COMMENT_KEY, \"[annotation {}]\".format(adx))\n",
    "\n",
    "    # Get capture info associated with the start of annotation\n",
    "    capture = signal.get_capture_info(annotation_start_idx)\n",
    "    freq_center = capture.get(SigMFFile.FREQUENCY_KEY, 0)\n",
    "    freq_min = freq_center - 0.5*sample_rate\n",
    "    freq_max = freq_center + 0.5*sample_rate\n",
    "\n",
    "    # Get frequency edges of annotation (default to edges of capture)\n",
    "    freq_start = annotation.get(SigMFFile.FLO_KEY)\n",
    "    freq_stop = annotation.get(SigMFFile.FHI_KEY)\n",
    "\n",
    "    # Get the samples corresponding to annotation\n",
    "    samples = signal.read_samples(annotation_start_idx, annotation_length)"
   ]
  },
  {
   "cell_type": "code",
   "execution_count": 7,
   "id": "2be2603a-7369-4451-b1ab-7d1d019862ff",
   "metadata": {},
   "outputs": [
    {
     "data": {
      "text/plain": [
       "SigMFFile({\n",
       "    \"global\": {\n",
       "        \"core:author\": \"cgzoghby@gmail.com\",\n",
       "        \"core:datatype\": \"f32_le\",\n",
       "        \"core:description\": \"Example chirping signal file.\",\n",
       "        \"core:sample_rate\": 100000000.0,\n",
       "        \"core:sha512\": \"88993e3b7c1c543c07bf049811ec199e1b6f856758fa82189e6e99c310f4c611f6437bb17071d397ec6c052bed18c202ebcafeced90cf0d274211820f67c3a53\",\n",
       "        \"core:version\": \"1.0.0\"\n",
       "    },\n",
       "    \"captures\": [\n",
       "        {\n",
       "            \"core:datetime\": \"2022-07-20T10:23:50.361198Z\",\n",
       "            \"core:frequency\": 915000000.0,\n",
       "            \"core:sample_start\": 0\n",
       "        }\n",
       "    ],\n",
       "    \"annotations\": [\n",
       "        {\n",
       "            \"core:comment\": \"example annotation\",\n",
       "            \"core:freq_lower_edge\": 914995000.0,\n",
       "            \"core:freq_upper_edge\": 915005000.0,\n",
       "            \"core:sample_count\": 200,\n",
       "            \"core:sample_start\": 100\n",
       "        }\n",
       "    ]\n",
       "})"
      ]
     },
     "execution_count": 7,
     "metadata": {},
     "output_type": "execute_result"
    }
   ],
   "source": [
    "signal"
   ]
  },
  {
   "cell_type": "code",
   "execution_count": 8,
   "id": "1e73b72e-b279-4ea2-897f-98826065d53c",
   "metadata": {},
   "outputs": [],
   "source": [
    "data = signal.read_samples()"
   ]
  },
  {
   "cell_type": "code",
   "execution_count": 10,
   "id": "5c7c4957-1791-4ba6-ad45-6dc67fa8f379",
   "metadata": {},
   "outputs": [
    {
     "data": {
      "text/plain": [
       "((2002,), (1001,))"
      ]
     },
     "execution_count": 10,
     "metadata": {},
     "output_type": "execute_result"
    }
   ],
   "source": [
    "data.shape,testSignal.shape"
   ]
  }
 ],
 "metadata": {
  "kernelspec": {
   "display_name": "PySDR",
   "language": "python",
   "name": "pysdr"
  },
  "language_info": {
   "codemirror_mode": {
    "name": "ipython",
    "version": 3
   },
   "file_extension": ".py",
   "mimetype": "text/x-python",
   "name": "python",
   "nbconvert_exporter": "python",
   "pygments_lexer": "ipython3",
   "version": "3.9.5"
  }
 },
 "nbformat": 4,
 "nbformat_minor": 5
}
