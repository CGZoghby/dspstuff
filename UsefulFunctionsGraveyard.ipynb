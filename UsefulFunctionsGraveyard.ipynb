{
 "cells": [
  {
   "cell_type": "markdown",
   "id": "fa3d5a75-1681-4676-a7ba-1441645cf634",
   "metadata": {},
   "source": [
    "# Script for writing all possible binary permutations of a certain # of bits to a csv file"
   ]
  },
  {
   "cell_type": "code",
   "execution_count": 3,
   "id": "0c10122d-457e-4a8c-a081-e161e74a939f",
   "metadata": {},
   "outputs": [],
   "source": [
    "import numpy as np\n",
    "import pandas as pd\n",
    "\n",
    "decList = np.arange(0,256,1) # make sure to go to 2^N+1 so capture the last entry (all 1s)\n",
    "for i in decList:\n",
    "    binStr = format(i,\"08b\")\n",
    "    if i == 0:\n",
    "        df = pd.DataFrame({\"Code\": [binStr]})\n",
    "    else:\n",
    "        df2 = pd.DataFrame({\"Code\": [binStr]})\n",
    "        df = pd.concat([df, df2],ignore_index=True)\n",
    "df.to_csv(\"allPossible8bitWords.csv\",index=False)       "
   ]
  },
  {
   "cell_type": "code",
   "execution_count": null,
   "id": "b55caec7-8034-4287-8886-93381f41f31e",
   "metadata": {},
   "outputs": [],
   "source": []
  }
 ],
 "metadata": {
  "kernelspec": {
   "display_name": "PySDR",
   "language": "python",
   "name": "pysdr"
  },
  "language_info": {
   "codemirror_mode": {
    "name": "ipython",
    "version": 3
   },
   "file_extension": ".py",
   "mimetype": "text/x-python",
   "name": "python",
   "nbconvert_exporter": "python",
   "pygments_lexer": "ipython3",
   "version": "3.9.5"
  }
 },
 "nbformat": 4,
 "nbformat_minor": 5
}
